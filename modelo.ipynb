{
 "cells": [
  {
   "cell_type": "markdown",
   "metadata": {},
   "source": [
    "IMPORTANTE : Aun no instale la libreria, aun no elegi el modelo, aun no se ejecutaron las celdas, aun no se definio el formato encuesta con que preguntas vamos a hacer para la evaluacion. \n",
    "\n",
    "Esto es solo una introduccion"
   ]
  },
  {
   "cell_type": "markdown",
   "metadata": {},
   "source": [
    "analisis de sentimiento"
   ]
  },
  {
   "cell_type": "code",
   "execution_count": null,
   "metadata": {},
   "outputs": [],
   "source": [
    "from transformers import pipeline\n",
    "\n",
    "sentiment_pipeline = pipeline(\"sentiment-analysis\")\n",
    "respuesta = sentiment_pipeline(\"La experiencia fue excelente, pero el servicio lento.\")\n",
    "print(respuesta)\n"
   ]
  },
  {
   "cell_type": "markdown",
   "metadata": {},
   "source": [
    "zero shot clasificador"
   ]
  },
  {
   "cell_type": "code",
   "execution_count": null,
   "metadata": {},
   "outputs": [],
   "source": [
    "zero_shot_classifier = pipeline(\"zero-shot-classification\")\n",
    "categorias = [\"comida\", \"servicio\", \"ambiente\"]\n",
    "clasificacion = zero_shot_classifier(\n",
    "    \"Mejoraría el tiempo de espera.\",\n",
    "    candidate_labels=categorias\n",
    ")\n",
    "print(clasificacion)"
   ]
  },
  {
   "cell_type": "markdown",
   "metadata": {},
   "source": [
    "question answering"
   ]
  },
  {
   "cell_type": "code",
   "execution_count": null,
   "metadata": {},
   "outputs": [],
   "source": [
    "from transformers import pipeline\n",
    "\n",
    "qa_pipeline = pipeline(\"question-answering\")\n",
    "contexto = \"La experiencia fue buena, pero el servicio lento y la comida fría.\"\n",
    "\n",
    "respuesta_experiencia = qa_pipeline(\n",
    "    question=\"¿Qué te pareció la experiencia?\",\n",
    "    context=contexto\n",
    ")\n",
    "respuesta_mejoras = qa_pipeline(\n",
    "    question=\"¿Qué mejorarías?\",\n",
    "    context=contexto\n",
    ")"
   ]
  }
 ],
 "metadata": {
  "kernelspec": {
   "display_name": "_venv",
   "language": "python",
   "name": "python3"
  },
  "language_info": {
   "codemirror_mode": {
    "name": "ipython",
    "version": 3
   },
   "file_extension": ".py",
   "mimetype": "text/x-python",
   "name": "python",
   "nbconvert_exporter": "python",
   "pygments_lexer": "ipython3",
   "version": "3.11.0"
  }
 },
 "nbformat": 4,
 "nbformat_minor": 2
}
